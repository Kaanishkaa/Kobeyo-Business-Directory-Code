{
 "cells": [
  {
   "cell_type": "markdown",
   "metadata": {},
   "source": [
    "# Career Page Analyzer Debugger\n",
    "This notebook helps debug why certain career pages are or aren't being detected correctly."
   ]
  },
  {
   "cell_type": "code",
   "execution_count": 5,
   "metadata": {},
   "outputs": [
    {
     "name": "stdout",
     "output_type": "stream",
     "text": [
      "✅ Modules loaded successfully\n"
     ]
    }
   ],
   "source": [
    "# Import required libraries\n",
    "import asyncio\n",
    "import json\n",
    "import sys\n",
    "import os\n",
    "from urllib.parse import urlparse\n",
    "import pandas as pd\n",
    "\n",
    "# Add scripts directory to path\n",
    "sys.path.append('../scripts')\n",
    "sys.path.append('./scripts')\n",
    "\n",
    "# Import our modules\n",
    "from email_crawler import EmailCareerWebCrawler\n",
    "from career_page_graphrag import CareerPageClassifier\n",
    "\n",
    "print(\"✅ Modules loaded successfully\")"
   ]
  },
  {
   "cell_type": "code",
   "execution_count": 6,
   "metadata": {},
   "outputs": [
    {
     "name": "stdout",
     "output_type": "stream",
     "text": [
      "🤖 Loading career page classifier...\n"
     ]
    },
    {
     "ename": "OSError",
     "evalue": "Incorrect path_or_model_id: './models/career_classifier'. Please provide either the path to a local folder or the repo_id of a model on the Hub.",
     "output_type": "error",
     "traceback": [
      "\u001b[31m---------------------------------------------------------------------------\u001b[39m",
      "\u001b[31mHFValidationError\u001b[39m                         Traceback (most recent call last)",
      "\u001b[36mFile \u001b[39m\u001b[32m/usr/local/python/3.12.1/lib/python3.12/site-packages/transformers/utils/hub.py:342\u001b[39m, in \u001b[36mcached_file\u001b[39m\u001b[34m(path_or_repo_id, filename, cache_dir, force_download, resume_download, proxies, token, revision, local_files_only, subfolder, repo_type, user_agent, _raise_exceptions_for_gated_repo, _raise_exceptions_for_missing_entries, _raise_exceptions_for_connection_errors, _commit_hash, **deprecated_kwargs)\u001b[39m\n\u001b[32m    340\u001b[39m \u001b[38;5;28;01mtry\u001b[39;00m:\n\u001b[32m    341\u001b[39m     \u001b[38;5;66;03m# Load from URL or cache if already cached\u001b[39;00m\n\u001b[32m--> \u001b[39m\u001b[32m342\u001b[39m     resolved_file = \u001b[43mhf_hub_download\u001b[49m\u001b[43m(\u001b[49m\n\u001b[32m    343\u001b[39m \u001b[43m        \u001b[49m\u001b[43mpath_or_repo_id\u001b[49m\u001b[43m,\u001b[49m\n\u001b[32m    344\u001b[39m \u001b[43m        \u001b[49m\u001b[43mfilename\u001b[49m\u001b[43m,\u001b[49m\n\u001b[32m    345\u001b[39m \u001b[43m        \u001b[49m\u001b[43msubfolder\u001b[49m\u001b[43m=\u001b[49m\u001b[38;5;28;43;01mNone\u001b[39;49;00m\u001b[43m \u001b[49m\u001b[38;5;28;43;01mif\u001b[39;49;00m\u001b[43m \u001b[49m\u001b[38;5;28;43mlen\u001b[39;49m\u001b[43m(\u001b[49m\u001b[43msubfolder\u001b[49m\u001b[43m)\u001b[49m\u001b[43m \u001b[49m\u001b[43m==\u001b[49m\u001b[43m \u001b[49m\u001b[32;43m0\u001b[39;49m\u001b[43m \u001b[49m\u001b[38;5;28;43;01melse\u001b[39;49;00m\u001b[43m \u001b[49m\u001b[43msubfolder\u001b[49m\u001b[43m,\u001b[49m\n\u001b[32m    346\u001b[39m \u001b[43m        \u001b[49m\u001b[43mrepo_type\u001b[49m\u001b[43m=\u001b[49m\u001b[43mrepo_type\u001b[49m\u001b[43m,\u001b[49m\n\u001b[32m    347\u001b[39m \u001b[43m        \u001b[49m\u001b[43mrevision\u001b[49m\u001b[43m=\u001b[49m\u001b[43mrevision\u001b[49m\u001b[43m,\u001b[49m\n\u001b[32m    348\u001b[39m \u001b[43m        \u001b[49m\u001b[43mcache_dir\u001b[49m\u001b[43m=\u001b[49m\u001b[43mcache_dir\u001b[49m\u001b[43m,\u001b[49m\n\u001b[32m    349\u001b[39m \u001b[43m        \u001b[49m\u001b[43muser_agent\u001b[49m\u001b[43m=\u001b[49m\u001b[43muser_agent\u001b[49m\u001b[43m,\u001b[49m\n\u001b[32m    350\u001b[39m \u001b[43m        \u001b[49m\u001b[43mforce_download\u001b[49m\u001b[43m=\u001b[49m\u001b[43mforce_download\u001b[49m\u001b[43m,\u001b[49m\n\u001b[32m    351\u001b[39m \u001b[43m        \u001b[49m\u001b[43mproxies\u001b[49m\u001b[43m=\u001b[49m\u001b[43mproxies\u001b[49m\u001b[43m,\u001b[49m\n\u001b[32m    352\u001b[39m \u001b[43m        \u001b[49m\u001b[43mresume_download\u001b[49m\u001b[43m=\u001b[49m\u001b[43mresume_download\u001b[49m\u001b[43m,\u001b[49m\n\u001b[32m    353\u001b[39m \u001b[43m        \u001b[49m\u001b[43mtoken\u001b[49m\u001b[43m=\u001b[49m\u001b[43mtoken\u001b[49m\u001b[43m,\u001b[49m\n\u001b[32m    354\u001b[39m \u001b[43m        \u001b[49m\u001b[43mlocal_files_only\u001b[49m\u001b[43m=\u001b[49m\u001b[43mlocal_files_only\u001b[49m\u001b[43m,\u001b[49m\n\u001b[32m    355\u001b[39m \u001b[43m    \u001b[49m\u001b[43m)\u001b[49m\n\u001b[32m    356\u001b[39m \u001b[38;5;28;01mexcept\u001b[39;00m GatedRepoError \u001b[38;5;28;01mas\u001b[39;00m e:\n",
      "\u001b[36mFile \u001b[39m\u001b[32m/usr/local/python/3.12.1/lib/python3.12/site-packages/huggingface_hub/utils/_validators.py:106\u001b[39m, in \u001b[36mvalidate_hf_hub_args.<locals>._inner_fn\u001b[39m\u001b[34m(*args, **kwargs)\u001b[39m\n\u001b[32m    105\u001b[39m \u001b[38;5;28;01mif\u001b[39;00m arg_name \u001b[38;5;129;01min\u001b[39;00m [\u001b[33m\"\u001b[39m\u001b[33mrepo_id\u001b[39m\u001b[33m\"\u001b[39m, \u001b[33m\"\u001b[39m\u001b[33mfrom_id\u001b[39m\u001b[33m\"\u001b[39m, \u001b[33m\"\u001b[39m\u001b[33mto_id\u001b[39m\u001b[33m\"\u001b[39m]:\n\u001b[32m--> \u001b[39m\u001b[32m106\u001b[39m     \u001b[43mvalidate_repo_id\u001b[49m\u001b[43m(\u001b[49m\u001b[43marg_value\u001b[49m\u001b[43m)\u001b[49m\n\u001b[32m    108\u001b[39m \u001b[38;5;28;01melif\u001b[39;00m arg_name == \u001b[33m\"\u001b[39m\u001b[33mtoken\u001b[39m\u001b[33m\"\u001b[39m \u001b[38;5;129;01mand\u001b[39;00m arg_value \u001b[38;5;129;01mis\u001b[39;00m \u001b[38;5;129;01mnot\u001b[39;00m \u001b[38;5;28;01mNone\u001b[39;00m:\n",
      "\u001b[36mFile \u001b[39m\u001b[32m/usr/local/python/3.12.1/lib/python3.12/site-packages/huggingface_hub/utils/_validators.py:154\u001b[39m, in \u001b[36mvalidate_repo_id\u001b[39m\u001b[34m(repo_id)\u001b[39m\n\u001b[32m    153\u001b[39m \u001b[38;5;28;01mif\u001b[39;00m repo_id.count(\u001b[33m\"\u001b[39m\u001b[33m/\u001b[39m\u001b[33m\"\u001b[39m) > \u001b[32m1\u001b[39m:\n\u001b[32m--> \u001b[39m\u001b[32m154\u001b[39m     \u001b[38;5;28;01mraise\u001b[39;00m HFValidationError(\n\u001b[32m    155\u001b[39m         \u001b[33m\"\u001b[39m\u001b[33mRepo id must be in the form \u001b[39m\u001b[33m'\u001b[39m\u001b[33mrepo_name\u001b[39m\u001b[33m'\u001b[39m\u001b[33m or \u001b[39m\u001b[33m'\u001b[39m\u001b[33mnamespace/repo_name\u001b[39m\u001b[33m'\u001b[39m\u001b[33m:\u001b[39m\u001b[33m\"\u001b[39m\n\u001b[32m    156\u001b[39m         \u001b[33mf\u001b[39m\u001b[33m\"\u001b[39m\u001b[33m \u001b[39m\u001b[33m'\u001b[39m\u001b[38;5;132;01m{\u001b[39;00mrepo_id\u001b[38;5;132;01m}\u001b[39;00m\u001b[33m'\u001b[39m\u001b[33m. Use `repo_type` argument if needed.\u001b[39m\u001b[33m\"\u001b[39m\n\u001b[32m    157\u001b[39m     )\n\u001b[32m    159\u001b[39m \u001b[38;5;28;01mif\u001b[39;00m \u001b[38;5;129;01mnot\u001b[39;00m REPO_ID_REGEX.match(repo_id):\n",
      "\u001b[31mHFValidationError\u001b[39m: Repo id must be in the form 'repo_name' or 'namespace/repo_name': './models/career_classifier'. Use `repo_type` argument if needed.",
      "\nThe above exception was the direct cause of the following exception:\n",
      "\u001b[31mOSError\u001b[39m                                   Traceback (most recent call last)",
      "\u001b[36mCell\u001b[39m\u001b[36m \u001b[39m\u001b[32mIn[6]\u001b[39m\u001b[32m, line 3\u001b[39m\n\u001b[32m      1\u001b[39m \u001b[38;5;66;03m# Initialize the crawler and classifier\u001b[39;00m\n\u001b[32m      2\u001b[39m crawler = EmailCareerWebCrawler()\n\u001b[32m----> \u001b[39m\u001b[32m3\u001b[39m career_classifier = \u001b[43mCareerPageClassifier\u001b[49m\u001b[43m(\u001b[49m\u001b[43m)\u001b[49m\n\u001b[32m      5\u001b[39m \u001b[38;5;28mprint\u001b[39m(\u001b[33m\"\u001b[39m\u001b[33m✅ Crawler and classifier initialized\u001b[39m\u001b[33m\"\u001b[39m)\n",
      "\u001b[36mFile \u001b[39m\u001b[32m/workspaces/Kobeyo-Business-Directory-Code/email-classifier-graphrag/scripts/career_page_graphrag.py:11\u001b[39m, in \u001b[36mCareerPageClassifier.__init__\u001b[39m\u001b[34m(self, model_path)\u001b[39m\n\u001b[32m      9\u001b[39m \u001b[38;5;28;01mdef\u001b[39;00m\u001b[38;5;250m \u001b[39m\u001b[34m__init__\u001b[39m(\u001b[38;5;28mself\u001b[39m, model_path=\u001b[33m'\u001b[39m\u001b[33m./models/career_classifier\u001b[39m\u001b[33m'\u001b[39m):\n\u001b[32m     10\u001b[39m     \u001b[38;5;28mprint\u001b[39m(\u001b[33m\"\u001b[39m\u001b[33m🤖 Loading career page classifier...\u001b[39m\u001b[33m\"\u001b[39m)\n\u001b[32m---> \u001b[39m\u001b[32m11\u001b[39m     \u001b[38;5;28mself\u001b[39m.tokenizer = \u001b[43mDistilBertTokenizer\u001b[49m\u001b[43m.\u001b[49m\u001b[43mfrom_pretrained\u001b[49m\u001b[43m(\u001b[49m\u001b[43mmodel_path\u001b[49m\u001b[43m)\u001b[49m\n\u001b[32m     12\u001b[39m     \u001b[38;5;28mself\u001b[39m.model = DistilBertForSequenceClassification.from_pretrained(model_path)\n\u001b[32m     13\u001b[39m     \u001b[38;5;28mself\u001b[39m.model.eval()\n",
      "\u001b[36mFile \u001b[39m\u001b[32m/usr/local/python/3.12.1/lib/python3.12/site-packages/transformers/tokenization_utils_base.py:1971\u001b[39m, in \u001b[36mPreTrainedTokenizerBase.from_pretrained\u001b[39m\u001b[34m(cls, pretrained_model_name_or_path, cache_dir, force_download, local_files_only, token, revision, trust_remote_code, *init_inputs, **kwargs)\u001b[39m\n\u001b[32m   1968\u001b[39m \u001b[38;5;28;01mif\u001b[39;00m \u001b[33m\"\u001b[39m\u001b[33mtokenizer_file\u001b[39m\u001b[33m\"\u001b[39m \u001b[38;5;129;01min\u001b[39;00m vocab_files:\n\u001b[32m   1969\u001b[39m     \u001b[38;5;66;03m# Try to get the tokenizer config to see if there are versioned tokenizer files.\u001b[39;00m\n\u001b[32m   1970\u001b[39m     fast_tokenizer_file = FULL_TOKENIZER_FILE\n\u001b[32m-> \u001b[39m\u001b[32m1971\u001b[39m     resolved_config_file = \u001b[43mcached_file\u001b[49m\u001b[43m(\u001b[49m\n\u001b[32m   1972\u001b[39m \u001b[43m        \u001b[49m\u001b[43mpretrained_model_name_or_path\u001b[49m\u001b[43m,\u001b[49m\n\u001b[32m   1973\u001b[39m \u001b[43m        \u001b[49m\u001b[43mTOKENIZER_CONFIG_FILE\u001b[49m\u001b[43m,\u001b[49m\n\u001b[32m   1974\u001b[39m \u001b[43m        \u001b[49m\u001b[43mcache_dir\u001b[49m\u001b[43m=\u001b[49m\u001b[43mcache_dir\u001b[49m\u001b[43m,\u001b[49m\n\u001b[32m   1975\u001b[39m \u001b[43m        \u001b[49m\u001b[43mforce_download\u001b[49m\u001b[43m=\u001b[49m\u001b[43mforce_download\u001b[49m\u001b[43m,\u001b[49m\n\u001b[32m   1976\u001b[39m \u001b[43m        \u001b[49m\u001b[43mresume_download\u001b[49m\u001b[43m=\u001b[49m\u001b[43mresume_download\u001b[49m\u001b[43m,\u001b[49m\n\u001b[32m   1977\u001b[39m \u001b[43m        \u001b[49m\u001b[43mproxies\u001b[49m\u001b[43m=\u001b[49m\u001b[43mproxies\u001b[49m\u001b[43m,\u001b[49m\n\u001b[32m   1978\u001b[39m \u001b[43m        \u001b[49m\u001b[43mtoken\u001b[49m\u001b[43m=\u001b[49m\u001b[43mtoken\u001b[49m\u001b[43m,\u001b[49m\n\u001b[32m   1979\u001b[39m \u001b[43m        \u001b[49m\u001b[43mrevision\u001b[49m\u001b[43m=\u001b[49m\u001b[43mrevision\u001b[49m\u001b[43m,\u001b[49m\n\u001b[32m   1980\u001b[39m \u001b[43m        \u001b[49m\u001b[43mlocal_files_only\u001b[49m\u001b[43m=\u001b[49m\u001b[43mlocal_files_only\u001b[49m\u001b[43m,\u001b[49m\n\u001b[32m   1981\u001b[39m \u001b[43m        \u001b[49m\u001b[43msubfolder\u001b[49m\u001b[43m=\u001b[49m\u001b[43msubfolder\u001b[49m\u001b[43m,\u001b[49m\n\u001b[32m   1982\u001b[39m \u001b[43m        \u001b[49m\u001b[43muser_agent\u001b[49m\u001b[43m=\u001b[49m\u001b[43muser_agent\u001b[49m\u001b[43m,\u001b[49m\n\u001b[32m   1983\u001b[39m \u001b[43m        \u001b[49m\u001b[43m_raise_exceptions_for_gated_repo\u001b[49m\u001b[43m=\u001b[49m\u001b[38;5;28;43;01mFalse\u001b[39;49;00m\u001b[43m,\u001b[49m\n\u001b[32m   1984\u001b[39m \u001b[43m        \u001b[49m\u001b[43m_raise_exceptions_for_missing_entries\u001b[49m\u001b[43m=\u001b[49m\u001b[38;5;28;43;01mFalse\u001b[39;49;00m\u001b[43m,\u001b[49m\n\u001b[32m   1985\u001b[39m \u001b[43m        \u001b[49m\u001b[43m_raise_exceptions_for_connection_errors\u001b[49m\u001b[43m=\u001b[49m\u001b[38;5;28;43;01mFalse\u001b[39;49;00m\u001b[43m,\u001b[49m\n\u001b[32m   1986\u001b[39m \u001b[43m        \u001b[49m\u001b[43m_commit_hash\u001b[49m\u001b[43m=\u001b[49m\u001b[43mcommit_hash\u001b[49m\u001b[43m,\u001b[49m\n\u001b[32m   1987\u001b[39m \u001b[43m    \u001b[49m\u001b[43m)\u001b[49m\n\u001b[32m   1988\u001b[39m     commit_hash = extract_commit_hash(resolved_config_file, commit_hash)\n\u001b[32m   1989\u001b[39m     \u001b[38;5;28;01mif\u001b[39;00m resolved_config_file \u001b[38;5;129;01mis\u001b[39;00m \u001b[38;5;129;01mnot\u001b[39;00m \u001b[38;5;28;01mNone\u001b[39;00m:\n",
      "\u001b[36mFile \u001b[39m\u001b[32m/usr/local/python/3.12.1/lib/python3.12/site-packages/transformers/utils/hub.py:408\u001b[39m, in \u001b[36mcached_file\u001b[39m\u001b[34m(path_or_repo_id, filename, cache_dir, force_download, resume_download, proxies, token, revision, local_files_only, subfolder, repo_type, user_agent, _raise_exceptions_for_gated_repo, _raise_exceptions_for_missing_entries, _raise_exceptions_for_connection_errors, _commit_hash, **deprecated_kwargs)\u001b[39m\n\u001b[32m    406\u001b[39m     \u001b[38;5;28;01mraise\u001b[39;00m \u001b[38;5;167;01mEnvironmentError\u001b[39;00m(\u001b[33mf\u001b[39m\u001b[33m\"\u001b[39m\u001b[33mThere was a specific connection error when trying to load \u001b[39m\u001b[38;5;132;01m{\u001b[39;00mpath_or_repo_id\u001b[38;5;132;01m}\u001b[39;00m\u001b[33m:\u001b[39m\u001b[38;5;130;01m\\n\u001b[39;00m\u001b[38;5;132;01m{\u001b[39;00merr\u001b[38;5;132;01m}\u001b[39;00m\u001b[33m\"\u001b[39m)\n\u001b[32m    407\u001b[39m \u001b[38;5;28;01mexcept\u001b[39;00m HFValidationError \u001b[38;5;28;01mas\u001b[39;00m e:\n\u001b[32m--> \u001b[39m\u001b[32m408\u001b[39m     \u001b[38;5;28;01mraise\u001b[39;00m \u001b[38;5;167;01mEnvironmentError\u001b[39;00m(\n\u001b[32m    409\u001b[39m         \u001b[33mf\u001b[39m\u001b[33m\"\u001b[39m\u001b[33mIncorrect path_or_model_id: \u001b[39m\u001b[33m'\u001b[39m\u001b[38;5;132;01m{\u001b[39;00mpath_or_repo_id\u001b[38;5;132;01m}\u001b[39;00m\u001b[33m'\u001b[39m\u001b[33m. Please provide either the path to a local folder or the repo_id of a model on the Hub.\u001b[39m\u001b[33m\"\u001b[39m\n\u001b[32m    410\u001b[39m     ) \u001b[38;5;28;01mfrom\u001b[39;00m\u001b[38;5;250m \u001b[39m\u001b[34;01me\u001b[39;00m\n\u001b[32m    411\u001b[39m \u001b[38;5;28;01mreturn\u001b[39;00m resolved_file\n",
      "\u001b[31mOSError\u001b[39m: Incorrect path_or_model_id: './models/career_classifier'. Please provide either the path to a local folder or the repo_id of a model on the Hub."
     ]
    }
   ],
   "source": [
    "# Initialize the crawler and classifier\n",
    "crawler = EmailCareerWebCrawler()\n",
    "career_classifier = CareerPageClassifier()\n",
    "\n",
    "print(\"✅ Crawler and classifier initialized\")"
   ]
  },
  {
   "cell_type": "markdown",
   "metadata": {},
   "source": [
    "## Step 1: Enter Website URL to Test"
   ]
  },
  {
   "cell_type": "code",
   "execution_count": null,
   "metadata": {},
   "outputs": [],
   "source": [
    "# Enter the website URL you want to test\n",
    "TEST_WEBSITE = \"http://www.magnoliabakery.com/\"\n",
    "\n",
    "print(f\"🎯 Testing website: {TEST_WEBSITE}\")"
   ]
  },
  {
   "cell_type": "markdown",
   "metadata": {},
   "source": [
    "## Step 2: Crawl the Website"
   ]
  },
  {
   "cell_type": "code",
   "execution_count": null,
   "metadata": {},
   "outputs": [],
   "source": [
    "# Crawl the website\n",
    "print(\"🕷️ Starting crawl...\")\n",
    "print(\"=\" * 80)\n",
    "\n",
    "# Run the crawl\n",
    "crawl_result = await crawler.process_single_website(TEST_WEBSITE)\n",
    "\n",
    "print(\"\\n\" + \"=\" * 80)\n",
    "print(\"📊 Crawl Results Summary:\")\n",
    "print(f\"   Status: {crawl_result.status}\")\n",
    "print(f\"   Pages crawled: {crawl_result.pages_crawled}\")\n",
    "print(f\"   Emails found: {len(crawl_result.emails)}\")\n",
    "print(f\"   Career links found: {len(crawl_result.career_links)}\")\n",
    "print(f\"   Time taken: {crawl_result.time_taken:.1f}s\")"
   ]
  },
  {
   "cell_type": "markdown",
   "metadata": {},
   "source": [
    "## Step 3: Analyze All Career Links Found"
   ]
  },
  {
   "cell_type": "code",
   "execution_count": null,
   "metadata": {},
   "outputs": [],
   "source": [
    "# Display all career links found by the crawler\n",
    "print(f\"\\n🔗 All Career Links Found ({len(crawl_result.career_links)} total):\")\n",
    "print(\"=\" * 80)\n",
    "\n",
    "for i, link in enumerate(crawl_result.career_links, 1):\n",
    "    print(f\"\\n{i}. {link}\")\n",
    "    \n",
    "    # Parse the URL to show its components\n",
    "    parsed = urlparse(link)\n",
    "    print(f\"   Path: {parsed.path}\")\n",
    "    print(f\"   Domain: {parsed.netloc}\")"
   ]
  },
  {
   "cell_type": "markdown",
   "metadata": {},
   "source": [
    "## Step 4: Clean and Filter Career Links"
   ]
  },
  {
   "cell_type": "code",
   "execution_count": null,
   "metadata": {},
   "outputs": [],
   "source": [
    "# Clean the career links\n",
    "print(\"🧹 Cleaning career links...\")\n",
    "print(\"=\" * 80)\n",
    "\n",
    "# Remove duplicates and normalize\n",
    "unique_links = []\n",
    "seen_normalized = set()\n",
    "\n",
    "for link in crawl_result.career_links:\n",
    "    # Normalize URL (remove protocol differences)\n",
    "    normalized = link.replace('https://', '').replace('http://', '').rstrip('/')\n",
    "    if normalized not in seen_normalized:\n",
    "        seen_normalized.add(normalized)\n",
    "        unique_links.append(link)\n",
    "        print(f\"✅ Kept: {link}\")\n",
    "    else:\n",
    "        print(f\"🔄 Duplicate removed: {link}\")\n",
    "\n",
    "# Filter out tracking/analytics URLs\n",
    "filtered_links = []\n",
    "for link in unique_links:\n",
    "    if any(bad in link for bad in ['@', 'pixel', 'analytics', 'tracking', 'wpm@']):\n",
    "        print(f\"❌ Filtered out (tracking): {link}\")\n",
    "    else:\n",
    "        filtered_links.append(link)\n",
    "        \n",
    "print(f\"\\n📋 After cleaning: {len(filtered_links)} links remain\")"
   ]
  },
  {
   "cell_type": "markdown",
   "metadata": {},
   "source": [
    "## Step 5: Analyze Each Career Link with the Classifier"
   ]
  },
  {
   "cell_type": "code",
   "execution_count": null,
   "metadata": {},
   "outputs": [],
   "source": [
    "# Analyze each link in detail\n",
    "print(\"🔍 Detailed Analysis of Each Career Link:\")\n",
    "print(\"=\" * 80)\n",
    "\n",
    "all_results = []\n",
    "\n",
    "for link in filtered_links:\n",
    "    print(f\"\\n🔗 Analyzing: {link}\")\n",
    "    print(\"-\" * 60)\n",
    "    \n",
    "    # Extract URL features\n",
    "    url_features = career_classifier.extract_url_features(link)\n",
    "    print(f\"\\n📊 URL Features:\")\n",
    "    print(f\"   Path: {url_features['path']}\")\n",
    "    print(f\"   Path clean: {url_features['path_clean']}\")\n",
    "    print(f\"   Path parts: {url_features['path_parts']}\")\n",
    "    print(f\"   URL Pattern Score: {url_features['url_score']:.2%}\")\n",
    "    print(f\"   Found patterns: {url_features['found_patterns']}\")\n",
    "    \n",
    "    # Classify the URL\n",
    "    result = career_classifier.classify_url(link)\n",
    "    all_results.append(result)\n",
    "    \n",
    "    print(f\"\\n🤖 Classification Result:\")\n",
    "    print(f\"   Is Career Page: {result['is_career_page']}\")\n",
    "    print(f\"   Confidence: {result['confidence']:.2%}\")\n",
    "    print(f\"   Model Confidence: {result['model_confidence']:.2%}\")\n",
    "    print(f\"   Model Prediction: {result['model_prediction']}\")\n",
    "    print(f\"   URL Pattern Score: {result['url_pattern_score']:.2%}\")\n",
    "    print(f\"   Requires Content: {result['requires_content']}\")\n",
    "    \n",
    "    # Show the text that was analyzed\n",
    "    print(f\"\\n📝 Text analyzed by model:\")\n",
    "    print(f\"   Title: {result['title_used']}\")\n",
    "    print(f\"   Description: {result['description_used']}\")"
   ]
  },
  {
   "cell_type": "markdown",
   "metadata": {},
   "source": [
    "## Step 6: Rank All Career Pages"
   ]
  },
  {
   "cell_type": "code",
   "execution_count": null,
   "metadata": {},
   "outputs": [],
   "source": [
    "# Rank the career pages\n",
    "print(\"🏆 Ranking Career Pages:\")\n",
    "print(\"=\" * 80)\n",
    "\n",
    "# Convert to format expected by rank_career_pages\n",
    "urls_to_rank = [{'url': link} for link in filtered_links]\n",
    "ranked_pages = career_classifier.rank_career_pages(urls_to_rank)\n",
    "\n",
    "# Create a DataFrame for better visualization\n",
    "ranking_data = []\n",
    "for i, page in enumerate(ranked_pages, 1):\n",
    "    ranking_data.append({\n",
    "        'Rank': i,\n",
    "        'URL': page['url'],\n",
    "        'Is Career': page['is_career_page'],\n",
    "        'Final Score': f\"{page['final_score']:.2%}\",\n",
    "        'Confidence': f\"{page['confidence']:.2%}\",\n",
    "        'URL Score': f\"{page['url_pattern_score']:.2%}\",\n",
    "        'Patterns': ', '.join(page['found_patterns']) if page['found_patterns'] else 'none'\n",
    "    })\n",
    "\n",
    "df = pd.DataFrame(ranking_data)\n",
    "display(df)"
   ]
  },
  {
   "cell_type": "markdown",
   "metadata": {},
   "source": [
    "## Step 7: Determine Best Career Page"
   ]
  },
  {
   "cell_type": "code",
   "execution_count": null,
   "metadata": {},
   "outputs": [],
   "source": [
    "# Determine the best career page\n",
    "print(\"🎯 Best Career Page Analysis:\")\n",
    "print(\"=\" * 80)\n",
    "\n",
    "# Filter for actual career pages\n",
    "career_pages = [p for p in ranked_pages if p['is_career_page'] or p['url_pattern_score'] > 0.5]\n",
    "\n",
    "if career_pages:\n",
    "    best_page = career_pages[0]\n",
    "    print(f\"\\n✅ BEST CAREER PAGE: {best_page['url']}\")\n",
    "    print(f\"\\nWhy this was chosen:\")\n",
    "    print(f\"   1. Final Score: {best_page['final_score']:.2%}\")\n",
    "    print(f\"   2. Is Career Page: {best_page['is_career_page']}\")\n",
    "    print(f\"   3. Confidence: {best_page['confidence']:.2%}\")\n",
    "    print(f\"   4. URL Pattern Score: {best_page['url_pattern_score']:.2%}\")\n",
    "    print(f\"   5. Patterns Found: {', '.join(best_page['found_patterns'])}\")\n",
    "    \n",
    "    if len(career_pages) > 1:\n",
    "        print(f\"\\n📋 Other candidates:\")\n",
    "        for i, page in enumerate(career_pages[1:4], 2):\n",
    "            print(f\"   {i}. {page['url']} (Score: {page['final_score']:.2%})\")\n",
    "else:\n",
    "    print(\"❌ No career pages identified!\")\n",
    "    print(\"\\nPossible reasons:\")\n",
    "    print(\"   1. The crawler didn't find the career links\")\n",
    "    print(\"   2. The URL patterns don't match our known patterns\")\n",
    "    print(\"   3. The model couldn't classify them without page content\")"
   ]
  },
  {
   "cell_type": "markdown",
   "metadata": {},
   "source": [
    "## Step 8: Show All Emails Found (Bonus)"
   ]
  },
  {
   "cell_type": "code",
   "execution_count": null,
   "metadata": {},
   "outputs": [],
   "source": [
    "# Also show emails found\n",
    "if crawl_result.emails:\n",
    "    print(f\"\\n📧 Emails Found ({len(crawl_result.emails)}):\")\n",
    "    print(\"=\" * 80)\n",
    "    for email in sorted(crawl_result.emails):\n",
    "        print(f\"   - {email}\")"
   ]
  },
  {
   "cell_type": "markdown",
   "metadata": {},
   "source": [
    "## Step 9: Debug Why Career Pages Might Be Missed"
   ]
  },
  {
   "cell_type": "code",
   "execution_count": null,
   "metadata": {},
   "outputs": [],
   "source": [
    "# Check if the crawler is missing career pages\n",
    "print(\"🐛 Debugging: Checking for Common Career Page Patterns\")\n",
    "print(\"=\" * 80)\n",
    "\n",
    "# Common career page URLs to check\n",
    "common_patterns = [\n",
    "    '/careers', '/jobs', '/join-us', '/join-our-team', '/work-with-us',\n",
    "    '/employment', '/opportunities', '/hiring', '/recruitment',\n",
    "    '/pages/careers', '/pages/jobs', '/pages/join-our-team',\n",
    "    '/about/careers', '/about/jobs', '/company/careers'\n",
    "]\n",
    "\n",
    "base_url = TEST_WEBSITE.rstrip('/')\n",
    "parsed_base = urlparse(base_url)\n",
    "base_domain = f\"{parsed_base.scheme}://{parsed_base.netloc}\"\n",
    "\n",
    "print(\"Checking if these URLs were found by the crawler:\")\n",
    "for pattern in common_patterns:\n",
    "    test_url = base_domain + pattern\n",
    "    \n",
    "    # Check if this URL was found\n",
    "    found = any(pattern in link for link in crawl_result.career_links)\n",
    "    \n",
    "    if found:\n",
    "        print(f\"✅ {pattern} - FOUND\")\n",
    "    else:\n",
    "        print(f\"❌ {pattern} - NOT FOUND\")\n",
    "\n",
    "# Check all links that were crawled\n",
    "print(f\"\\n📄 Total pages visited: {crawl_result.pages_crawled}\")\n",
    "if hasattr(crawl_result, 'visited_urls') and crawl_result.visited_urls:\n",
    "    print(\"\\nAll URLs visited during crawl:\")\n",
    "    for url in sorted(crawl_result.visited_urls):\n",
    "        print(f\"   - {url}\")"
   ]
  },
  {
   "cell_type": "markdown",
   "metadata": {},
   "source": [
    "## Step 10: Test Specific URL Manually"
   ]
  },
  {
   "cell_type": "code",
   "execution_count": null,
   "metadata": {},
   "outputs": [],
   "source": [
    "# Test a specific URL manually\n",
    "# Change this to test any specific URL\n",
    "TEST_CAREER_URL = \"https://www.magnoliabakery.com/pages/join-our-team\"\n",
    "\n",
    "print(f\"🔬 Manual Test of: {TEST_CAREER_URL}\")\n",
    "print(\"=\" * 80)\n",
    "\n",
    "# Extract features\n",
    "features = career_classifier.extract_url_features(TEST_CAREER_URL)\n",
    "print(\"\\nURL Features:\")\n",
    "for key, value in features.items():\n",
    "    print(f\"   {key}: {value}\")\n",
    "\n",
    "# Classify\n",
    "result = career_classifier.classify_url(TEST_CAREER_URL, \n",
    "                                       page_title=\"Join Our Team\",\n",
    "                                       meta_description=\"Career opportunities at our company\")\n",
    "\n",
    "print(\"\\nClassification Result:\")\n",
    "for key, value in result.items():\n",
    "    if key not in ['title_used', 'description_used']:\n",
    "        print(f\"   {key}: {value}\")"
   ]
  }
 ],
 "metadata": {
  "kernelspec": {
   "display_name": "Python 3",
   "language": "python",
   "name": "python3"
  },
  "language_info": {
   "codemirror_mode": {
    "name": "ipython",
    "version": 3
   },
   "file_extension": ".py",
   "mimetype": "text/x-python",
   "name": "python",
   "nbconvert_exporter": "python",
   "pygments_lexer": "ipython3",
   "version": "3.12.1"
  }
 },
 "nbformat": 4,
 "nbformat_minor": 4
}
