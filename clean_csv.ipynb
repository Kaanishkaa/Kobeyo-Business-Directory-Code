import pandas as pd
df = pd.read_csv('manager_jobs_rows.csv')
print(df) 
print("afsfasf") 